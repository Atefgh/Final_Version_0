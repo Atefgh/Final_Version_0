{
 "cells": [
  {
   "cell_type": "code",
   "execution_count": 6,
   "metadata": {},
   "outputs": [
    {
     "name": "stdout",
     "output_type": "stream",
     "text": [
      "the city name = France\n",
      "{'request': {'type': 'City', 'query': 'Paris, France', 'language': 'en', 'unit': 'm'}, 'location': {'name': 'Paris', 'country': 'France', 'region': 'Ile-de-France', 'lat': '48.867', 'lon': '2.333', 'timezone_id': 'Europe/Paris', 'localtime': '2020-08-15 12:33', 'localtime_epoch': 1597494780, 'utc_offset': '2.0'}, 'current': {'observation_time': '10:33 AM', 'temperature': 23, 'weather_code': 116, 'weather_icons': ['https://assets.weatherstack.com/images/wsymbols01_png_64/wsymbol_0002_sunny_intervals.png'], 'weather_descriptions': ['Partly cloudy'], 'wind_speed': 7, 'wind_degree': 270, 'wind_dir': 'W', 'pressure': 1015, 'precip': 0.1, 'humidity': 73, 'cloudcover': 75, 'feelslike': 25, 'uv_index': 7, 'visibility': 10, 'is_day': 'yes'}}\n",
      "<pymongo.results.InsertOneResult object at 0x000001C0EC90B6C8>\n"
     ]
    }
   ],
   "source": [
    "import json\n",
    "import urllib.request as urllib\n",
    "import pymongo\n",
    "def getweather(city):\n",
    "    error_code = '''{error: {code: 1006,message: \"No matching location found.\"}}'''\n",
    "    url = \"http://api.weatherstack.com/current?access_key=96f633a68ad87e2ab43c4131ab9e415b&query=\"\n",
    "    myclient = pymongo.MongoClient('mongodb://localhost:27017/')\n",
    "    mydb = myclient['mydatabase']\n",
    "    #This is used to check whether the collection is there or not.\n",
    "    mycol = mydb[\"customers\"]\n",
    "    #-----------------------------------------------------------\n",
    "    #retrieves exported MongoDB data from database.\n",
    "    cursor=mycol.find()\n",
    "    docs=list(cursor)\n",
    "    #Retrieves only 25 documents initially.\n",
    "    docs=docs[:25]\n",
    "    #-------------------------------------------------------------\n",
    "    while (True): \n",
    "        ur = url + str(city)\n",
    "        response = urllib.urlopen(ur)\n",
    "        data = json.loads(response.read())\n",
    "        if( data == error_code ):\n",
    "            print(\"wrong city !, enter a valid city \")\n",
    "            city = str(input(\"the city name\"))\n",
    "        else:\n",
    "            break\n",
    "    print(data)\n",
    "    x = mycol.insert_one(data)\n",
    "    print(x) \n",
    "#data = { \"name\": \"John\", \"address\": \"Highway 37\" }\n",
    "city = input(\"the city name = \")\n",
    "getweather(city)  \n",
    "  "
   ]
  }
 ],
 "metadata": {
  "kernelspec": {
   "display_name": "Python 3",
   "language": "python",
   "name": "python3"
  },
  "language_info": {
   "codemirror_mode": {
    "name": "ipython",
    "version": 3
   },
   "file_extension": ".py",
   "mimetype": "text/x-python",
   "name": "python",
   "nbconvert_exporter": "python",
   "pygments_lexer": "ipython3",
   "version": "3.7.4"
  }
 },
 "nbformat": 4,
 "nbformat_minor": 2
}
